{
  "metadata": {
    "kernelspec": {
      "name": "python",
      "display_name": "Python (Pyodide)",
      "language": "python"
    },
    "language_info": {
      "name": ""
    }
  },
  "nbformat_minor": 4,
  "nbformat": 4,
  "cells": [
    {
      "cell_type": "markdown",
      "source": "<center>\n    <img src=\"https://cf-courses-data.s3.us.cloud-object-storage.appdomain.cloud/IBMDeveloperSkillsNetwork-DS0105EN-SkillsNetwork/labs/Module2/images/SN_web_lightmode.png\" width=\"300\" alt=\"cognitiveclass.ai logo\">\n</center>\n",
      "metadata": {}
    },
    {
      "cell_type": "markdown",
      "source": "#### Add your code below following the instructions given in the course\n",
      "metadata": {}
    },
    {
      "cell_type": "markdown",
      "source": "# Data Science Tools and Ecosystem",
      "metadata": {}
    },
    {
      "cell_type": "markdown",
      "source": "In this notebook, Data Science Tools and Ecosystem are summarized.",
      "metadata": {}
    },
    {
      "cell_type": "markdown",
      "source": "Some of the popular languages that Data Scientists use are:\n1. R\n2. Python ",
      "metadata": {}
    },
    {
      "cell_type": "markdown",
      "source": "Some of the commonly used libraries used by Data Scientists include:\n1. Numpy\n2. ggplot",
      "metadata": {}
    },
    {
      "cell_type": "markdown",
      "source": "|Data Science Tools|\n|------------------|\n|Hadoop|\n|Rapidminer|\n|Rstudio|",
      "metadata": {}
    },
    {
      "cell_type": "markdown",
      "source": "### Below are a few examples of evaluating arithmetic expressions in Python",
      "metadata": {}
    },
    {
      "cell_type": "markdown",
      "source": "This a simple arithmetic expression to mutiply then add integers",
      "metadata": {}
    },
    {
      "cell_type": "code",
      "source": "x= (3*4)+5\nprint(x)",
      "metadata": {
        "trusted": true
      },
      "execution_count": null,
      "outputs": []
    },
    {
      "cell_type": "markdown",
      "source": " This will convert 200 minutes to hours by diving by 60",
      "metadata": {}
    },
    {
      "cell_type": "code",
      "source": "hours =200/60\nprint (hours)",
      "metadata": {
        "trusted": true
      },
      "execution_count": null,
      "outputs": []
    },
    {
      "cell_type": "markdown",
      "source": "# Objectives: \nThe objectives of this notebook is to practice some points relate dto R, python, and github",
      "metadata": {}
    },
    {
      "cell_type": "markdown",
      "source": "List popular languages for Data Science",
      "metadata": {}
    },
    {
      "cell_type": "markdown",
      "source": "* R\n* Python ",
      "metadata": {}
    },
    {
      "cell_type": "markdown",
      "source": "## Author\nAsma ",
      "metadata": {}
    },
    {
      "cell_type": "code",
      "source": "",
      "metadata": {},
      "execution_count": null,
      "outputs": []
    }
  ]
}